{
 "cells": [
  {
   "cell_type": "code",
   "execution_count": 1,
   "metadata": {},
   "outputs": [],
   "source": [
    "import sys\n",
    "import os\n",
    "import torch\n",
    "import torchvision\n",
    "import torchvision.transforms as transforms\n",
    "import torch.nn as nn\n",
    "import torch.nn.functional as F\n",
    "import torch.optim as optim\n",
    "\n",
    "from torch.utils.data.dataset import Dataset\n",
    "from PIL import Image\n"
   ]
  },
  {
   "cell_type": "code",
   "execution_count": 2,
   "metadata": {},
   "outputs": [],
   "source": [
    "transform = transforms.Compose([transforms.ToTensor(),\n",
    "                               transforms.Normalize((0.5, 0.5, 0.5), (0.5, 0.5, 0.5))])\n"
   ]
  },
  {
   "cell_type": "code",
   "execution_count": 3,
   "metadata": {},
   "outputs": [],
   "source": [
    "Epoch = 100"
   ]
  },
  {
   "cell_type": "markdown",
   "metadata": {},
   "source": [
    "## Dataloader"
   ]
  },
  {
   "cell_type": "code",
   "execution_count": 4,
   "metadata": {},
   "outputs": [],
   "source": [
    "datalist = []\n",
    "facePath = './dataset/AFDB_face_dataset'\n",
    "maskPath = './dataset/AFDB_masked_face_dataset'\n",
    "\n",
    "## Get face data\n",
    "for root, dirs, files in os.walk(facePath):\n",
    "    if files == []:\n",
    "        continue\n",
    "    path1 = os.path.join(root, files[0])\n",
    "    path2 = os.path.join(root, files[1])\n",
    "    datalist.append([path1, 0])\n",
    "    datalist.append([path2, 0])\n",
    "# print(len(datalist))\n",
    "\n",
    "## Get masked data\n",
    "for root, dirs, files in os.walk(maskPath):\n",
    "    if files == []:\n",
    "        continue\n",
    "    path1 = os.path.join(root, files[0])\n",
    "    if len(files) > 1:\n",
    "        path2 = os.path.join(root, files[1])\n",
    "    datalist.append([path1, 1])\n",
    "    datalist.append([path2, 1])\n",
    "\n",
    "# print(len(datalist))"
   ]
  },
  {
   "cell_type": "code",
   "execution_count": 5,
   "metadata": {},
   "outputs": [],
   "source": [
    "class faceMaskerDataset(Dataset):\n",
    "    def __init__(self, filelist, transformation=None):\n",
    "        self.transforms = transformation\n",
    "        self.filelist = filelist\n",
    "    \n",
    "    def __getitem__(self, index):\n",
    "        imagePath = self.filelist[index][0]\n",
    "        label = self.filelist[index][1]\n",
    "        img = Image.open(imagePath).resize([32,32])\n",
    "        if self.transforms is not None:\n",
    "            img = self.transforms(img)\n",
    "        return (img, label)\n",
    "    \n",
    "    def __len__(self):\n",
    "        return len(self.filelist)\n",
    "\n",
    "transformation = transforms.Compose([transforms.ToTensor(),\n",
    "                               transforms.Normalize((0.5, 0.5, 0.5), (0.5, 0.5, 0.5))])"
   ]
  },
  {
   "cell_type": "code",
   "execution_count": 6,
   "metadata": {},
   "outputs": [],
   "source": [
    "dataset = faceMaskerDataset(datalist, transformation)\n",
    "img, label = dataset[1]"
   ]
  },
  {
   "cell_type": "markdown",
   "metadata": {},
   "source": [
    "## Conv Net"
   ]
  },
  {
   "cell_type": "code",
   "execution_count": 7,
   "metadata": {
    "code_folding": []
   },
   "outputs": [],
   "source": [
    "class Net(nn.Module):\n",
    "    def __init__(self):\n",
    "        super(Net, self).__init__()\n",
    "        self.conv1 = nn.Conv2d(3, 6, 5)\n",
    "        self.pool = nn.MaxPool2d(2, 2)\n",
    "        self.conv2 = nn.Conv2d(6, 16, 5)\n",
    "        self.fc1 = nn.Linear(16 * 5 * 5, 120)\n",
    "        self.fc2 = nn.Linear(120, 84)\n",
    "        self.fc3 = nn.Linear(84, 1);\n",
    "    \n",
    "    def forward(self, x):\n",
    "        x = self.pool(F.relu(self.conv1(x)))\n",
    "        x = self.pool(F.relu(self.conv2(x)))\n",
    "        x = x.view(-1, 16*5*5)\n",
    "        x = F.relu(self.fc1(x))\n",
    "        x = F.relu(self.fc2(x))\n",
    "        return x\n",
    "net = Net()"
   ]
  },
  {
   "cell_type": "markdown",
   "metadata": {},
   "source": [
    "## Optimization Method"
   ]
  },
  {
   "cell_type": "code",
   "execution_count": 8,
   "metadata": {},
   "outputs": [],
   "source": [
    "criterion = nn.CrossEntropyLoss()\n",
    "optimizer = optim.SGD(net.parameters(), lr=0.001, momentum=0.9)"
   ]
  },
  {
   "cell_type": "code",
   "execution_count": null,
   "metadata": {},
   "outputs": [
    {
     "name": "stdout",
     "output_type": "stream",
     "text": [
      "[1,    20] loss: 4.370\n",
      "[1,    40] loss: 4.241\n",
      "[1,    60] loss: 4.020\n",
      "[1,    80] loss: 3.070\n",
      "[1,   100] loss: 0.965\n",
      "[1,   120] loss: 0.947\n",
      "[1,   140] loss: 0.688\n",
      "[1,   160] loss: 0.846\n",
      "[1,   180] loss: 0.730\n",
      "[1,   200] loss: 0.669\n",
      "[1,   220] loss: 0.676\n",
      "[1,   240] loss: 0.666\n",
      "[1,   260] loss: 0.656\n",
      "[1,   280] loss: 0.609\n",
      "[1,   300] loss: 0.556\n",
      "[1,   320] loss: 0.572\n",
      "[1,   340] loss: 0.526\n",
      "[1,   360] loss: 0.407\n",
      "[1,   380] loss: 0.478\n",
      "[1,   400] loss: 0.357\n",
      "[1,   420] loss: 0.543\n",
      "[1,   440] loss: 0.296\n",
      "[1,   460] loss: 0.301\n",
      "[2,    20] loss: 0.284\n",
      "[2,    40] loss: 0.256\n",
      "[2,    60] loss: 0.232\n",
      "[2,    80] loss: 0.409\n",
      "[2,   100] loss: 0.194\n",
      "[2,   120] loss: 0.168\n",
      "[2,   140] loss: 0.162\n",
      "[2,   160] loss: 0.159\n",
      "[2,   180] loss: 0.365\n",
      "[2,   200] loss: 0.189\n",
      "[2,   220] loss: 0.185\n",
      "[2,   240] loss: 0.347\n",
      "[2,   260] loss: 0.276\n",
      "[2,   280] loss: 0.166\n",
      "[2,   300] loss: 0.376\n",
      "[2,   320] loss: 0.284\n",
      "[2,   340] loss: 0.231\n",
      "[2,   360] loss: 0.176\n",
      "[2,   380] loss: 0.264\n",
      "[2,   400] loss: 0.280\n",
      "[2,   420] loss: 0.173\n",
      "[2,   440] loss: 0.249\n",
      "[2,   460] loss: 0.324\n",
      "[3,    20] loss: 0.117\n",
      "[3,    40] loss: 0.248\n",
      "[3,    60] loss: 0.288\n",
      "[3,    80] loss: 0.246\n",
      "[3,   100] loss: 0.127\n",
      "[3,   120] loss: 0.241\n",
      "[3,   140] loss: 0.190\n",
      "[3,   160] loss: 0.206\n",
      "[3,   180] loss: 0.087\n",
      "[3,   200] loss: 0.257\n",
      "[3,   220] loss: 0.244\n",
      "[3,   240] loss: 0.275\n",
      "[3,   260] loss: 0.259\n",
      "[3,   280] loss: 0.151\n",
      "[3,   300] loss: 0.133\n",
      "[3,   320] loss: 0.279\n",
      "[3,   340] loss: 0.131\n",
      "[3,   360] loss: 0.138\n",
      "[3,   380] loss: 0.142\n",
      "[3,   400] loss: 0.190\n",
      "[3,   420] loss: 0.170\n",
      "[3,   440] loss: 0.126\n",
      "[3,   460] loss: 0.176\n",
      "[4,    20] loss: 0.098\n",
      "[4,    40] loss: 0.346\n",
      "[4,    60] loss: 0.157\n",
      "[4,    80] loss: 0.143\n",
      "[4,   100] loss: 0.166\n",
      "[4,   120] loss: 0.178\n",
      "[4,   140] loss: 0.139\n",
      "[4,   160] loss: 0.252\n",
      "[4,   180] loss: 0.215\n",
      "[4,   200] loss: 0.179\n",
      "[4,   220] loss: 0.124\n",
      "[4,   240] loss: 0.221\n",
      "[4,   260] loss: 0.151\n",
      "[4,   280] loss: 0.232\n",
      "[4,   300] loss: 0.128\n",
      "[4,   320] loss: 0.165\n",
      "[4,   340] loss: 0.106\n",
      "[4,   360] loss: 0.105\n",
      "[4,   380] loss: 0.075\n",
      "[4,   400] loss: 0.053\n",
      "[4,   420] loss: 0.179\n",
      "[4,   440] loss: 0.315\n",
      "[4,   460] loss: 0.124\n",
      "[5,    20] loss: 0.100\n",
      "[5,    40] loss: 0.093\n",
      "[5,    60] loss: 0.172\n",
      "[5,    80] loss: 0.120\n",
      "[5,   100] loss: 0.224\n",
      "[5,   120] loss: 0.190\n",
      "[5,   140] loss: 0.081\n",
      "[5,   160] loss: 0.106\n",
      "[5,   180] loss: 0.239\n",
      "[5,   200] loss: 0.133\n",
      "[5,   220] loss: 0.120\n",
      "[5,   240] loss: 0.145\n",
      "[5,   260] loss: 0.295\n",
      "[5,   280] loss: 0.189\n",
      "[5,   300] loss: 0.176\n",
      "[5,   320] loss: 0.140\n",
      "[5,   340] loss: 0.135\n",
      "[5,   360] loss: 0.189\n",
      "[5,   380] loss: 0.104\n",
      "[5,   400] loss: 0.114\n",
      "[5,   420] loss: 0.077\n",
      "[5,   440] loss: 0.270\n",
      "[5,   460] loss: 0.087\n",
      "[6,    20] loss: 0.126\n",
      "[6,    40] loss: 0.105\n",
      "[6,    60] loss: 0.097\n",
      "[6,    80] loss: 0.162\n",
      "[6,   100] loss: 0.097\n",
      "[6,   120] loss: 0.058\n",
      "[6,   140] loss: 0.142\n",
      "[6,   160] loss: 0.101\n",
      "[6,   180] loss: 0.143\n",
      "[6,   200] loss: 0.232\n"
     ]
    }
   ],
   "source": [
    "trainloader = torch.utils.data.DataLoader(dataset, batch_size=4, \n",
    "                                         shuffle=True, num_workers=2)\n",
    "for epoch in range(Epoch):\n",
    "    running_loss = 0.0\n",
    "    for i, data in enumerate(trainloader, 0):\n",
    "        inputs, labels = data\n",
    "        optimizer.zero_grad()\n",
    "        \n",
    "        outputs = net(inputs)\n",
    "        loss = criterion(outputs, labels)\n",
    "        loss.backward()\n",
    "        optimizer.step()\n",
    "        \n",
    "        running_loss += loss.item()\n",
    "        if i % 20 == 19:\n",
    "            print('[%d, %5d] loss: %.3f' % (epoch+1, i+1, running_loss / 20))\n",
    "            running_loss = 0.0\n",
    "print('Finished Training')"
   ]
  },
  {
   "cell_type": "code",
   "execution_count": null,
   "metadata": {},
   "outputs": [],
   "source": []
  }
 ],
 "metadata": {
  "kernelspec": {
   "display_name": "Python 3",
   "language": "python",
   "name": "python3"
  },
  "language_info": {
   "codemirror_mode": {
    "name": "ipython",
    "version": 3
   },
   "file_extension": ".py",
   "mimetype": "text/x-python",
   "name": "python",
   "nbconvert_exporter": "python",
   "pygments_lexer": "ipython3",
   "version": "3.7.7"
  }
 },
 "nbformat": 4,
 "nbformat_minor": 4
}
